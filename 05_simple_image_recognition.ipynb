{
 "cells": [
  {
   "cell_type": "code",
   "execution_count": 95,
   "id": "4f1d8026-61d8-4752-949d-7acd2224f8d1",
   "metadata": {},
   "outputs": [],
   "source": [
    "from tensorflow.keras import Sequential\n",
    "from tensorflow.keras.layers import Dense\n",
    "import numpy as np\n",
    "import matplotlib\n",
    "from matplotlib import pyplot\n",
    "from IPython.display import clear_output"
   ]
  },
  {
   "cell_type": "code",
   "execution_count": 2,
   "id": "ff82e1ea-091a-49fc-b8fa-47e33e2d95bc",
   "metadata": {},
   "outputs": [
    {
     "name": "stdout",
     "output_type": "stream",
     "text": [
      "100%  cost= 5.6624404720651e-08               \n",
      "teaching finished\n"
     ]
    }
   ],
   "source": [
    "#NN distinguishing plot of a Gaussian from Cauchy distribution\n",
    "\n",
    "#function generates a random batch of Gaussin or Cauchy plots with random parameters\n",
    "def input_data(Nprob,Ncopy=1):\n",
    "    is_gauss=[True if np.random.uniform(0,1.0)<0.5 else False for i in range(Ncopy)]\n",
    "    out=np.array([[1.0,0.0] if is_gauss[i]==True else [0.0,1.0] for i in range(Ncopy)])\n",
    "    x=np.linspace(-10.0,10.0,Nprob)\n",
    "    x0=np.transpose(np.random.uniform(-10.0,10.0,Ncopy))\n",
    "    amp=np.transpose(np.random.uniform(0,10.0,Ncopy))\n",
    "    std=np.transpose(np.random.uniform(0,5.0,Ncopy))\n",
    "    #print(\"gauss:\",is_gauss,\"x0=\",x0,\"amp=\",amp,\"std=\",std)\n",
    "    y=np.array([amp[i]*np.exp(-((x-x0[i])/std[i])**2)*is_gauss[i]+(1.0-is_gauss[i])*amp[i]/(1+((x-x0[i])/std[i])**2) for i in range(Ncopy)])\n",
    "    noise=np.random.normal(0,1.0,(Ncopy,Nprob))\n",
    "    return y+noise,out\n",
    "\n",
    "#result,output=input_data(100,10)\n",
    "#fig,plot=pyplot.subplots()\n",
    "#for i in range(10):\n",
    "#    plot.plot(result[i])\n",
    "#pyplot.show()    \n",
    "\n",
    "#defining NN\n",
    "Nprob=100\n",
    "network=Sequential()\n",
    "network.add(Dense(50,input_shape=(Nprob,),activation='relu'))\n",
    "network.add(Dense(50,activation='relu'))\n",
    "network.add(Dense(2,activation='softmax'))\n",
    "network.compile(loss='categorical_crossentropy',optimizer='adam')\n",
    "\n",
    "#teaching function\n",
    "def teach_network(model,Nsteps,Nbatch,Nprob):\n",
    "    cost=[None]*Nsteps\n",
    "    yin,yout=input_data(Nprob,Nbatch)\n",
    "    #print(yin,yout)\n",
    "    for it in range(Nsteps):\n",
    "        cost[it]=model.train_on_batch(yin,yout)\n",
    "        print(f\"{it/Nsteps:.0%}\",\" cost=\",cost[it],end=\"            \\r\")\n",
    "    print(\"\\nteaching finished\")\n",
    "\n",
    "teach_network(network,10000,200,Nprob)\n",
    "\n"
   ]
  },
  {
   "cell_type": "code",
   "execution_count": 3,
   "id": "df9ae036-5bf3-4315-b5f0-a17fbbc9c3ff",
   "metadata": {},
   "outputs": [
    {
     "name": "stdout",
     "output_type": "stream",
     "text": [
      "69.32665699471538\n"
     ]
    }
   ],
   "source": [
    "#testing the accuracy of results\n",
    "test_in,test_out=input_data(Nprob,100)\n",
    "result=network.predict_on_batch(test_in)\n",
    "result2=[[1.0,0] if result[i][0]>result[i][1] else [0,1.0] for i in range(100)]\n",
    "#print(result)\n",
    "print((test_out*result).sum())\n"
   ]
  },
  {
   "cell_type": "code",
   "execution_count": 120,
   "id": "31550920-dae6-4a93-a51f-fbede28a709c",
   "metadata": {},
   "outputs": [],
   "source": [
    "#NN distinguishing circles from squares\n",
    "\n",
    "#function generating random batch of circles and squares with labels\n",
    "def input_data2D(Nprob,Ncopy=1):\n",
    "    is_circle=np.array([[True] if np.random.uniform(0,1)<0.5 else [False] for i in range(Ncopy)])\n",
    "    out=np.array([[1.0,0] if el[0]==True else [0,1.0] for el in is_circle])\n",
    "    x0=np.random.uniform(-1.0,1.0,Ncopy)\n",
    "    y0=np.random.uniform(-1.0,1.0,Ncopy)\n",
    "    r=np.random.uniform(0.3,1.0,Ncopy)\n",
    "    x=np.linspace(-1.0,1.0,Nprob)\n",
    "    y=np.linspace(-1.0,1.0,Nprob)\n",
    "    circle=np.array([[1.0 if (x[j]-x0[n])**2+(y[i]-y0[n])**2<r[n]**2 else 0 for i in range(Nprob) for j in range(Nprob)] for n in range(Ncopy)])\n",
    "    square=np.array([[1.0 if (x0[n]-r[n]<x[j]<x0[n]+r[n])*(y0[n]-r[n]<y[i]<y0[n]+r[n]) else 0 for i in range(Nprob) for j in range(Nprob)] for n in range(Ncopy)])\n",
    "    z=is_circle*circle+(1.0-is_circle)*square\n",
    "    return z, out\n",
    "\n",
    "def test_fig():\n",
    "    Nprob=20\n",
    "    test,out=input_data2D(Nprob,2)\n",
    "    fig,plot=pyplot.subplots()\n",
    "    tab=np.linspace(-1.0,1.0,Nprob)\n",
    "    x,y=np.meshgrid(tab,tab)\n",
    "    z=np.reshape(test[0],(-1,Nprob))\n",
    "    plot.pcolormesh(x,y,z)\n",
    "    plot.set_box_aspect(1)\n",
    "    pyplot.show()\n",
    "\n",
    "\n",
    "        \n",
    "    "
   ]
  },
  {
   "cell_type": "code",
   "execution_count": 134,
   "id": "53ac9cab-acd1-4415-b3a9-0aff4e8b13b5",
   "metadata": {},
   "outputs": [
    {
     "data": {
      "image/png": "[encoded data removed]",
      "text/plain": [
       "<Figure size 640x480 with 2 Axes>"
      ]
     },
     "metadata": {},
     "output_type": "display_data"
    },
    {
     "name": "stdout",
     "output_type": "stream",
     "text": [
      "100%  cost= 0.0            \n",
      "teaching finished\n"
     ]
    }
   ],
   "source": [
    "#defining NN\n",
    "Nprob2=20\n",
    "network2=Sequential()\n",
    "network2.add(Dense(30,input_shape=(Nprob2**2,),activation='relu'))\n",
    "network2.add(Dense(30,activation='relu'))\n",
    "network2.add(Dense(2,activation='softmax'))\n",
    "\n",
    "network2.compile(loss='categorical_crossentropy',optimizer='adam',metrics=['categorical_accuracy'])\n",
    "\n",
    "#teaching NN\n",
    "def teach_network2(model,Nsteps,Nbatch,Nprob):\n",
    "    cost=[None]*Nsteps\n",
    "    accuracy=[None]*Nsteps\n",
    "    yin,yout=input_data2D(Nprob,Nbatch)\n",
    "    #print(yin,yout)\n",
    "    \n",
    "    for it in range(Nsteps):\n",
    "        cost[it],accuracy[it]=model.train_on_batch(yin,yout)\n",
    "        print(f\"{it/Nsteps:.0%}\",\" cost=\",cost[it],end=\"            \\r\")\n",
    "        if it%int(Nsteps/10.0)==0:\n",
    "            clear_output(wait=True)\n",
    "            fig=pyplot.figure()\n",
    "            plt=fig.add_gridspec(1,2)\n",
    "            plot=plt.subplots()\n",
    "            plot[0].set_yscale('log')\n",
    "            plot[1].set_yscale('log')\n",
    "            plot[0].plot(cost,label=\"cost\")\n",
    "            plot[1].plot(accuracy,label=\"accuracy\")\n",
    "            plot[0].set_title(\"cost\")\n",
    "            plot[1].set_title(\"accuracy\")\n",
    "            plot[0].set_box_aspect(1)\n",
    "            plot[1].set_box_aspect(1)\n",
    "            pyplot.show()\n",
    "    print(\"\\nteaching finished\")\n",
    "\n",
    "teach_network2(network2,20000,100,Nprob2)\n"
   ]
  },
  {
   "cell_type": "code",
   "execution_count": 135,
   "id": "464ce62c-7d21-4893-8e34-d75bc8853c3d",
   "metadata": {},
   "outputs": [
    {
     "name": "stdout",
     "output_type": "stream",
     "text": [
      "54.0\n"
     ]
    }
   ],
   "source": [
    "#testing accuracy\n",
    "test2_in,test2_out=input_data2D(Nprob2,100)\n",
    "result2=network2.predict_on_batch(test2_in)\n",
    "refine=np.array([[1.0,0] if el[0]>el[1] else [0,1.0] for el in result2])\n",
    "print((refine*test2_out).sum())"
   ]
  },
  {
   "cell_type": "code",
   "execution_count": 136,
   "id": "689eacfa-a4b0-4110-a84e-e59f883bb7de",
   "metadata": {},
   "outputs": [
    {
     "data": {
      "image/png": "[encoded data removed]",
      "text/plain": [
       "<Figure size 1000x200 with 5 Axes>"
      ]
     },
     "metadata": {},
     "output_type": "display_data"
    }
   ],
   "source": [
    "#plotting results\n",
    "def lets_see(model,Ntest,Nprob):\n",
    "    test,out=input_data2D(Nprob,Ntest)\n",
    "    result=model.predict_on_batch(test)    \n",
    "    fig=pyplot.figure(figsize=(Ntest*2,2))\n",
    "    plot=fig.add_gridspec(1,Ntest)\n",
    "    plt=plot.subplots()\n",
    "    \n",
    "    tab=np.linspace(-1.0,1.0,Nprob)\n",
    "    x,y=np.meshgrid(tab,tab)\n",
    "    for n in range(Ntest):\n",
    "        z=np.reshape(test[n],(-1,Nprob))\n",
    "        plt[n].pcolormesh(x,y,z)\n",
    "        plt[n].set_box_aspect(1)\n",
    "        plt[n].set_title((\"C\" if out[n,0]==1 else \"S\")+\" pred.:\"+(\"C\" if result[n,0]>result[n,1] else \"S\"))\n",
    "        \n",
    "    pyplot.show()\n",
    "\n",
    "lets_see(network2,5,Nprob2)"
   ]
  },
  {
   "cell_type": "code",
   "execution_count": null,
   "id": "64b84710-39a6-4b74-bd5e-981478c41a97",
   "metadata": {},
   "outputs": [],
   "source": []
  }
 ],
 "metadata": {
  "kernelspec": {
   "display_name": "Python 3 (ipykernel)",
   "language": "python",
   "name": "python3"
  },
  "language_info": {
   "codemirror_mode": {
    "name": "ipython",
    "version": 3
   },
   "file_extension": ".py",
   "mimetype": "text/x-python",
   "name": "python",
   "nbconvert_exporter": "python",
   "pygments_lexer": "ipython3",
   "version": "3.10.12"
  }
 },
 "nbformat": 4,
 "nbformat_minor": 5
}
